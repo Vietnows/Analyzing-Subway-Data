{
 "cells": [
  {
   "cell_type": "markdown",
   "metadata": {},
   "source": [
    "# Subway Data Analysis\n",
    "\n",
    "## Introduction\n",
    "\n",
    "O sistema de ônibus e trens de Nova Iorque - o Metro Transit Authority - [fornece seus dados para download](http://web.mta.info/developers/developer-data-terms.html#data) através de  arquivos CSV. Dentre as informações disponíveis estão os **registros semanais de dados das catracas do metrô**. \n",
    "\n",
    "\n",
    "Estes registros contém contagens cumulativas das entradas e saídas, normalmente agrupadas em períodos de 4 horas, com dados adicionais que permitem identificar a estação e catraca específica correspondente a cada linha do arquivo. Neste projeto iremos utilizar um desses registros, mas não precisa baixar nada agora! O primeiro exercício será escrever um código Python para fazer isso por você :-)\n",
    "\n",
    "\n"
   ]
  },
  {
   "cell_type": "markdown",
   "metadata": {},
   "source": [
    "# Sobre este projeto\n",
    "\n",
    "Neste projeto você irá aplicar todos os conhecimentos adquiridos neste primeiro mês de curso, com tarefas básicas de aquisição e limpeza de dados. No processo iremos descobrir informações essenciais sobre os dados, utilizando o que foi aprendido no curso de estatística. \n",
    "\n",
    "O objetivo deste projeto é explorar a relação entre os dados das catracas do metrô de Nova Iorque e o clima no dia da coleta. Para isso, além dos dados do metrô, precisaremos dos dados de clima da cidade de Nova Iorque. \n",
    "\n",
    "Os principais pontos que serão verificados neste trabalho:\n",
    "\n",
    "- Coleta de dados da internet\n",
    "- Utilização de estatística para análise de dados\n",
    "- Manipulação de dados e criação de gráficos simples com o `Pandas`\n",
    "\n",
    "*Como conseguir ajuda*: Sugerimos que busque apoio nos canais abaixo, na seguinte ordem de prioridade:\n",
    "\n",
    "| Tipo de dúvida\\Canais         \t| Google \t| Fórum \t| Slack \t| Email \t|\n",
    "|-------------------------------\t|--------\t|-------\t|-------\t|-------\t|\n",
    "| Programação Python e Pandas    \t| 1      \t| 2     \t| 3     \t|       \t|\n",
    "| Requisitos do projeto         \t|        \t| 1     \t| 2     \t| 3     \t|\n",
    "| Partes específicas do Projeto \t|        \t| 1     \t| 2     \t| 3     \t|\n",
    "\n",
    "Os endereços dos canais são:\n",
    "\n",
    "- Fórum: https://discussions.udacity.com/c/ndfdsi-project\n",
    "- Slack: [udacity-br.slack.com](https://udacity-br.slack.com/messages/C5MT6E3E1)\n",
    "- Email: data-suporte@udacity.com\n",
    "\n",
    "**Espera-se que o estudante entregue este relatório com:**\n",
    "\n",
    "- Todos os exercícios feitos, com atenção especial para os trechos de código a completar (sinalizados com `# your code here`), pois eles são essenciais para que o código rode corretamente\n",
    "- O arquivo ipynb exportado como HTML\n",
    "\n",
    "Para entregar este projeto envie este `.ipynb` preenchido e o HTML, zipados, na página correspondente da sala de aula."
   ]
  },
  {
   "cell_type": "markdown",
   "metadata": {},
   "source": [
    "# Sobre o dataset\n",
    "\n",
    "Descrição das colunas\n",
    "<pre>\n",
    "C/A,UNIT,SCP,STATION,LINENAME,DIVISION,DATE,TIME,DESC,ENTRIES,EXITS\n",
    "  \n",
    "C/A      = Agrupamento de catracas de que a catraca faz parte (_Control Area_)\n",
    "UNIT     = Cabine de controle associada à estação onde a catraca se encontra (_Remote Unit for a station_)\n",
    "SCP      = Endereço específico da catraca (_Subunit Channel Position_)\n",
    "STATION  = Nome da estação onde a catraca se encontra\n",
    "LINENAME = Código representando todas linhas que passam na estação*\n",
    "DIVISION = Código representando a concessionária original da linha, antes da prefeitura assumir a gestão   \n",
    "DATE     = Representa a data (no formato MM-DD-YY) do evento de auditoria agendado\n",
    "TIME     = Representa o horário (hh:mm:ss) do evento de auditoria agendado\n",
    "DESc     = Descreve o tipo de evento de auditoria registrado:\n",
    "           1. \"REGULAR\" representando um evento de auditoria padrão, em que a contagem é feita a cada 4 horas\n",
    "           2. \"RECOVR AUD\" significa que o valor específico estava perdido, mas foi recuperado posteriormente \n",
    "           3. Diversos códigos sinalizam situações em que auditorias são mais frequentes devido a atividades de\n",
    "              planejamento ou solução de problemas. \n",
    "ENTRIES  = A contagem cumulativa de entradas associadas à catraca desde o último registro\n",
    "EXITS    = A contagem cumulativa de saídas associadas à catraca desde o último registro\n",
    "\n",
    "*  Normalmente as linhas são representadas por um caractere. LINENAME 456NQR significa que os trens 4, 5, 6, N, Q e R passam pela estação.\n",
    "</pre>"
   ]
  },
  {
   "cell_type": "markdown",
   "metadata": {},
   "source": [
    "# Lembretes\n",
    "\n",
    "Antes de começarmos, alguns lembretes devem ter em mente ao usar os notebooks iPython:\n",
    "\n",
    "- Lembre-se de que você pode ver do lado esquerdo de uma célula de código quando foi executado pela última vez se houver um número dentro das chaves.\n",
    "- Quando você inicia uma nova sessão do notebook, certifique-se de executar todas as células até o ponto em que você deixou a última vez. Mesmo que a saída ainda seja visível a partir de quando você executou as células em sua sessão anterior, o kernel começa em um estado novo, então você precisará recarregar os dados, etc. em uma nova sessão.\n",
    "- O ponto anterior é útil para ter em mente se suas respostas não correspondem ao que é esperado nos questionários da aula. Tente recarregar os dados e execute todas as etapas de processamento um a um para garantir que você esteja trabalhando com as mesmas variáveis e dados que estão em cada fase do questionário."
   ]
  },
  {
   "cell_type": "markdown",
   "metadata": {},
   "source": [
    "## Seção 1 - Coleta de Dados\n",
    "\n",
    "### *Exercicio 1.1*\n",
    "\n",
    "Mãos a obra!! Agora é sua vez de coletar os dados. Escreva abaixo um código python que acesse o link http://web.mta.info/developers/turnstile.html e baixe os arquivos do mês de junho de 2017. O arquivo deverá ser salvo com o nome turnstile_170610.txt onde 10/06/17 é a data do arquivo.\n",
    "\n",
    "<blockquote>\n",
    "    <p>Caso o site esteja fora do ar, use essa url:</p>\n",
    "    <p>https://s3.amazonaws.com/video.udacity-data.com/topher/2018/November/5bf32290_turnstile/turnstile.html</p>\n",
    "</blockquote>\n",
    "\n",
    "Abaixo seguem alguns comandos que poderão te ajudar:\n",
    "\n",
    "Utilize a biblioteca **urllib** para abrir e resgatar uma página da web. Utilize o comando abaixo onde **url** será o caminho da página da web onde se encontra o arquivo:\n",
    "\n",
    "```python\n",
    "u = urllib.urlopen(url)\n",
    "html = u.read()\n",
    "```\n",
    "\n",
    "Utilize a biblioteca **BeautifulSoup** para procurar na página pelo link do arquivo que deseja baixar. Utilize o comando abaixo para criar o seu objeto *soup* e procurar por todas as tags 'a'no documento:\n",
    " \n",
    " \n",
    "```python\n",
    "soup = BeautifulSoup(html, \"html.parser\")\n",
    "links = soup.find_all('a')\n",
    "```\n",
    "\n",
    "Uma dica para baixar apenas os arquivos do mês de junho é verificar a data no nome do arquivo. Por exemplo, para baixar o arquivo do dia 17/06/2017 verifique se o link termina com *\"turnstile_170610.txt\"*. Se não fizer isso você baixará todos os arquivos da página. Para fazer isso utilize o comando conforme abaixo:\n",
    "\n",
    "```python\n",
    "if '1706' in link.get('href'):\n",
    "```\n",
    "\n",
    "E a dica final é utilizar o comando abaixo para fazer o download do arquivo txt:\n",
    "\n",
    "```python\n",
    "urllib.urlretrieve(link_do_arquivo, filename)\n",
    "```\n",
    "\n",
    "Lembre-se, primeiro, carregue todos os pacotes e funções que você estará usando em sua análise."
   ]
  },
  {
   "cell_type": "code",
   "execution_count": 1,
   "metadata": {},
   "outputs": [
    {
     "name": "stdout",
     "output_type": "stream",
     "text": [
      "http://web.mta.info/developers/data/nyct/turnstile/turnstile_170624.txt\n",
      "http://web.mta.info/developers/data/nyct/turnstile/turnstile_170617.txt\n",
      "http://web.mta.info/developers/data/nyct/turnstile/turnstile_170610.txt\n",
      "http://web.mta.info/developers/data/nyct/turnstile/turnstile_170603.txt\n"
     ]
    }
   ],
   "source": [
    "import urllib\n",
    "from urllib.request import urlretrieve\n",
    "from bs4 import BeautifulSoup\n",
    "\n",
    "url = 'http://web.mta.info/developers/turnstile.html'\n",
    "u = urllib.request.urlopen(url)\n",
    "html = u.read()\n",
    "\n",
    "soup = BeautifulSoup(html, \"html.parser\")\n",
    "links = soup.select('a[href*=\"1706\"]')\n",
    "url2 = url.split('turnstile')[0]\n",
    "\n",
    "file_names = []\n",
    "\n",
    "for link in links:\n",
    "    aux = link.get('href')\n",
    "    names = link.get('href').split(\"/\")[3]\n",
    "    file_names.append(names)\n",
    "    urlretrieve(url2+aux, file_names[0])\n",
    "    print(url2+aux)"
   ]
  },
  {
   "cell_type": "markdown",
   "metadata": {},
   "source": [
    "### *Exercicio 1.2*\n",
    "\n",
    "Escreva uma função que pegue a lista de nomes dos arquivos que você baixou no exercicio 1.1 e consolide-os em um único arquivo. Deve existir apenas uma linha de cabeçalho no arquivo de saida. \n",
    "\n",
    "Por exemplo, se o arquivo_1 tiver:\n",
    "linha 1...\n",
    "linha 2...\n",
    "\n",
    "e o outro arquivo, arquivo_2 tiver:\n",
    "linha 3...\n",
    "linha 4...\n",
    "linha 5...\n",
    "\n",
    "Devemos combinar o arquivo_1 com arquivo_2 em um arquivo mestre conforme abaixo:\n",
    "\n",
    "'C/A, UNIT, SCP, DATEn, TIMEn, DESCn, ENTRIESn, EXITSn'\n",
    "linha 1...\n",
    "linha 2...\n",
    "linha 3...\n",
    "linha 4...\n",
    "linha 5...\n",
    "\n",
    "**OBS:** Note que algumas colunas foram descartadas!"
   ]
  },
  {
   "cell_type": "code",
   "execution_count": 2,
   "metadata": {},
   "outputs": [],
   "source": [
    "import glob \n",
    "\n",
    "def create_master_turnstile_file(filenames, output_file):\n",
    "    with open(output_file, 'w') as outfile:\n",
    "        outfile.write('C/A,UNIT,SCP,STATION, LINENAME, DIVISION, DATEn,TIMEn,DESCn,ENTRIESn,EXITSn\\n')\n",
    "        for fname in filenames:\n",
    "            with open(fname) as infile:\n",
    "                infile.readline()\n",
    "                for line in infile:\n",
    "                    outfile.write(line)\n",
    "                    \n",
    "files = glob.glob(\"*.txt\")                                  \n",
    "create_master_turnstile_file(files, 'master-file.txt')"
   ]
  },
  {
   "cell_type": "markdown",
   "metadata": {},
   "source": [
    "### *Exercicio 1.3*\n",
    "\n",
    "Neste exercício, escreva um função que leia o master_file criado no exercicio anterior e carregue-o em um pandas dataframe. Esta função deve filtrar para que o dataframe possua apenas linhas onde a coluna \"DESCn\" possua o valor \"Regular\".\n",
    "\n",
    "Por exemplo, se o data frame do pandas estiver conforme abaixo:\n",
    "    \n",
    "    ,C/A,UNIT,SCP,DATEn,TIMEn,DESCn,ENTRIESn,EXITSn\n",
    "    0,A002,R051,02-00-00,05-01-11,00:00:00,REGULAR,3144312,1088151\n",
    "    1,A002,R051,02-00-00,05-01-11,04:00:00,DOOR,3144335,1088159\n",
    "    2,A002,R051,02-00-00,05-01-11,08:00:00,REGULAR,3144353,1088177\n",
    "    3,A002,R051,02-00-00,05-01-11,12:00:00,DOOR,3144424,1088231\n",
    "\n",
    "O dataframe deverá ficar conforme abaixo depois de filtrar apenas as linhas onde a coluna DESCn possua o valor REGULAR:\n",
    "\n",
    "    0,A002,R051,02-00-00,05-01-11,00:00:00,REGULAR,3144312,1088151\n",
    "    2,A002,R051,02-00-00,05-01-11,08:00:00,REGULAR,3144353,1088177\n"
   ]
  },
  {
   "cell_type": "code",
   "execution_count": null,
   "metadata": {},
   "outputs": [],
   "source": [
    "import pandas as pd\n",
    "\n",
    "def filter_by_regular(filename):\n",
    "    turnstile_data = pd.read_csv(filename,error_bad_lines=False)\n",
    "    turnstile_data[turnstile_data[\"DESCn\"] == \"REGULAR\"]\n",
    "    return turnstile_data\n",
    "\n",
    "def get_dataframe():\n",
    "    return filter_by_regular(files[1])\n",
    "\n",
    "data = get_dataframe()\n",
    "\n",
    "data.head()"
   ]
  },
  {
   "cell_type": "markdown",
   "metadata": {},
   "source": [
    "### *Exercicio 1.4*\n",
    "\n",
    "\n",
    "Os dados do metrô de NY possui dados cumulativos de entradas e saidas por linha. Assuma que você possui um dataframe chamado df que contém apenas linhas para uma catraca em particular (unico SCP, C/A, e UNIT). A função abaixo deve alterar essas entradas cumulativas para a contagem de entradas desde a última leitura (entradas desde a última linha do dataframe).\n",
    "\n",
    "Mais especificamente, você deverá fazer duas coisas:\n",
    "\n",
    "1. Criar uma nova coluna chamada ENTRIESn_hourly\n",
    "\n",
    "2. Inserir nessa coluna a diferença entre ENTRIESn da linha atual e a da linha anterior. Se a linha possuir alguma NAN, preencha/substitua por 1.\n",
    "\n",
    "Dica: as funções do pandas shift() e fillna() pode ser úteis nesse exercicio.\n",
    "\n",
    "Abaixo tem um exemplo de como seu dataframe deve ficar ao final desse exercicio:\n",
    "\n",
    "           C/A  UNIT       SCP     DATEn     TIMEn    DESCn  ENTRIESn    EXITSn  ENTRIESn_hourly\n",
    "    0     A002  R051  02-00-00  05-01-11  00:00:00  REGULAR   3144312   1088151                1\n",
    "    1     A002  R051  02-00-00  05-01-11  04:00:00  REGULAR   3144335   1088159               23\n",
    "    2     A002  R051  02-00-00  05-01-11  08:00:00  REGULAR   3144353   1088177               18\n",
    "    3     A002  R051  02-00-00  05-01-11  12:00:00  REGULAR   3144424   1088231               71\n",
    "    4     A002  R051  02-00-00  05-01-11  16:00:00  REGULAR   3144594   1088275              170\n",
    "    5     A002  R051  02-00-00  05-01-11  20:00:00  REGULAR   3144808   1088317              214\n",
    "    6     A002  R051  02-00-00  05-02-11  00:00:00  REGULAR   3144895   1088328               87\n",
    "    7     A002  R051  02-00-00  05-02-11  04:00:00  REGULAR   3144905   1088331               10\n",
    "    8     A002  R051  02-00-00  05-02-11  08:00:00  REGULAR   3144941   1088420               36\n",
    "    9     A002  R051  02-00-00  05-02-11  12:00:00  REGULAR   3145094   1088753              153\n",
    "    10    A002  R051  02-00-00  05-02-11  16:00:00  REGULAR   3145337   1088823              243"
   ]
  },
  {
   "cell_type": "code",
   "execution_count": null,
   "metadata": {
    "collapsed": true
   },
   "outputs": [],
   "source": [
    "def get_hourly_entries(df):\n",
    "    df['ENTRIESn_hourly'] = data.ENTRIESn - data.ENTRIESn.shift(1)\n",
    "    df['ENTRIESn_hourly'] = data['ENTRIESn_hourly'].fillna(1).apply(int) \n",
    "    return df\n",
    "\n",
    "data = get_hourly_entries(data)\n",
    "data.head()"
   ]
  },
  {
   "cell_type": "markdown",
   "metadata": {},
   "source": [
    "### *Exercicio 1.5*\n",
    "\n",
    "Faça o mesmo do exercicio anterior mas agora considerando as saidas, coluna EXITSn.\n",
    "Para isso crie uma coluna chamada de EXITSn_hourly e insira a diferença entre a coluna EXITSn da linha atual versus a linha anterior. Se tiver algum NaN, preencha/substitua por 0.\n",
    "\n"
   ]
  },
  {
   "cell_type": "code",
   "execution_count": null,
   "metadata": {},
   "outputs": [],
   "source": [
    "def get_hourly_exits(df): \n",
    "    df['EXITSn_hourly'] = df.EXITSn - df.EXITSn.shift(1)\n",
    "    df = df.fillna(0)\n",
    "    df['EXITSn_hourly'] = df['EXITSn_hourly'].apply(int) \n",
    "    return df\n",
    "\n",
    "data = get_hourly_exits(data)\n",
    "data.head()"
   ]
  },
  {
   "cell_type": "markdown",
   "metadata": {},
   "source": [
    "### *Exercicio 1.6*\n",
    "\n",
    "Dado uma variável de entrada que representa o tempo no formato de:\n",
    "     \"00:00:00\" (hora: minutos: segundos)\n",
    "    \n",
    "Escreva uma função para extrair a parte da hora do tempo variável de entrada\n",
    "E devolva-o como um número inteiro. Por exemplo:\n",
    "         \n",
    "         1) se a hora for 00, seu código deve retornar 0\n",
    "         2) se a hora for 01, seu código deve retornar 1\n",
    "         3) se a hora for 21, seu código deve retornar 21\n",
    "        \n",
    "Por favor, devolva a hora como um número inteiro.\n"
   ]
  },
  {
   "cell_type": "code",
   "execution_count": null,
   "metadata": {},
   "outputs": [],
   "source": [
    "def time_to_hour(time):\n",
    "    hour = int(time[0:2])\n",
    "    return hour\n",
    "\n",
    "data['Hour'] = data['TIMEn'].map(lambda time: time_to_hour(str(time)))\n",
    "\n",
    "print(time_to_hour('00:45:32'))\n",
    "print(time_to_hour('01:59:36'))\n",
    "print(time_to_hour('21:15:02'))\n",
    "\n",
    "data.head()"
   ]
  },
  {
   "cell_type": "markdown",
   "metadata": {},
   "source": [
    "## Exercicio 2 - Análise dos dados\n",
    "\n",
    "### *Exercicio 2.1*\n",
    "\n",
    "Para verificar a relação entre o movimento do metrô e o clima, precisaremos complementar os dados do arquivo já baixado com os dados do clima.\n",
    "Nós complementamos para você este arquivo com os dados de clima de Nova Iorque  e disponibilizamos na área de materiais do projeto. Você pode acessa-lo pelo link: https://s3.amazonaws.com/content.udacity-data.com/courses/ud359/turnstile_data_master_with_weather.csv\n",
    "\n",
    "Agora que temos nossos dados em um arquivo csv, escreva um código python que leia este arquivo e salve-o em um data frame do pandas. \n",
    "\n",
    "Dica: \n",
    "\n",
    "Utilize o comando abaixo para ler o arquivo:\n",
    "\n",
    "```python\n",
    "pd.read_csv('output_list.txt', sep=\",\")\n",
    "```\n",
    "\n"
   ]
  },
  {
   "cell_type": "code",
   "execution_count": null,
   "metadata": {},
   "outputs": [],
   "source": [
    "filename = \"turnstile_data_master_with_weather.csv\"\n",
    "\n",
    "data_weather = pd.read_csv(filename)\n",
    "data_weather.head(5)"
   ]
  },
  {
   "cell_type": "markdown",
   "metadata": {},
   "source": [
    "### *Exercicio 2.2*\n",
    "\n",
    "Agora crie uma função que calcule a quantidade de dias chuvosos, para isso retorne a contagem do numero de dias onde a coluna *\"rain\"* é igual a 1.\n",
    "\n",
    "Dica: Você também pode achar que a interpretação de números como números inteiros ou float pode não\n",
    "     funcionar inicialmente. Para contornar esta questão, pode ser útil converter\n",
    "     esses números para números inteiros. Isso pode ser feito escrevendo cast (coluna como inteiro).\n",
    "     Então, por exemplo, se queríamos lançar a coluna maxtempi como um número inteiro, nós devemos\n",
    "     escrever algo como cast (maxtempi as integer) = 76, em oposição a simplesmente\n",
    "     onde maxtempi = 76."
   ]
  },
  {
   "cell_type": "code",
   "execution_count": null,
   "metadata": {},
   "outputs": [],
   "source": [
    "def num_rainy_days(df):\n",
    "    df['rain'] = df['rain'].apply(int)\n",
    "    rainy_daysounts = len(df[df['rain'] == 1.0].groupby('DATEn'))\n",
    "    return rainy_days    \n",
    "    \n",
    "num_rainy_days(data_weather)"
   ]
  },
  {
   "cell_type": "markdown",
   "metadata": {},
   "source": [
    "### *Exercicio 2.3*\n",
    "\n",
    "Calcule se estava nebuloso ou não (0 ou 1) e a temperatura máxima para fog (isto é, a temperatura máxima \n",
    "     para dias nebulosos)."
   ]
  },
  {
   "cell_type": "code",
   "execution_count": null,
   "metadata": {},
   "outputs": [],
   "source": [
    "def max_temp_aggregate_by_fog(df):\n",
    "    return df[df['fog']==1]['maxtempi'].max()\n",
    "\n",
    "max_temp_aggregate_by_fog(data_weather)"
   ]
  },
  {
   "cell_type": "markdown",
   "metadata": {},
   "source": [
    "### *Exercicio 2.4\n",
    "\n",
    "Calcule agora a média de 'meantempi' nos dias que são sábado ou domingo (finais de semana):"
   ]
  },
  {
   "cell_type": "code",
   "execution_count": null,
   "metadata": {},
   "outputs": [],
   "source": [
    "def avg_weekend_temperature(df):\n",
    "    df = pd.read_csv(filename, sep=\",\")\n",
    "    df['DayOfWeek'] = pd.to_datetime(df['DATEn']).dt.weekday_name\n",
    "    #mean_temp_weekends = df[(df['DayOfWeek'] =='Saturday') | (df['DayOfWeek']==\"Sunday\")]['meantempi'].mean()\n",
    "    weekend_data = df[(df['DayOfWeek'] =='Saturday') | (df['DayOfWeek']==\"Sunday\")]['meantempi']\n",
    "    mean_temp_weekends = weekend_data.mean()\n",
    "    return mean_temp_weekends\n",
    "\n",
    "avg_weekend_temperature(data_weather)"
   ]
  },
  {
   "cell_type": "markdown",
   "metadata": {},
   "source": [
    "### *Exercicio 2.5\n",
    "\n",
    "Calcule a média da temperatura mínima 'mintempi' nos dias chuvosos onde da temperatura mínima foi maior que do 55 graus:"
   ]
  },
  {
   "cell_type": "code",
   "execution_count": null,
   "metadata": {
    "collapsed": true
   },
   "outputs": [],
   "source": [
    "def avg_min_temperature(df):\n",
    "    df = pd.read_csv(filename, sep=\",\")\n",
    "    \n",
    "    rainy_days55 = data_weather[(data_weather['rain'] == 1 ) & (data_weather['mintempi'] > 55)]['mintempi']\n",
    "    avg_min_temp_rainy = rainy_days55.mean()\n",
    "    \n",
    "    return avg_min_temp_rainy\n",
    "\n",
    "avg_min_temperature(data_weather)"
   ]
  },
  {
   "cell_type": "markdown",
   "metadata": {},
   "source": [
    "### *Exercicio 2.6\n",
    "\n",
    "Antes de realizar qualquer análise, pode ser útil olhar para os dados que esperamos analisar. Mais especificamente, vamos examinR as entradas por hora em nossos dados do metrô de Nova York para determinar a distribuição dos dados. Estes dados são armazenados na coluna ['ENTRIESn_hourly'].\n",
    "    \n",
    "Trace dois histogramas nos mesmos eixos para mostrar as entradas quando esta chovendo vs quando não está chovendo. \n",
    "Abaixo está um exemplo sobre como traçar histogramas com pandas e matplotlib:\n",
    "     \n",
    "```python\n",
    "Turnstile_weather ['column_to_graph']. Hist ()\n",
    "```   \n",
    "    "
   ]
  },
  {
   "cell_type": "code",
   "execution_count": null,
   "metadata": {
    "collapsed": true
   },
   "outputs": [],
   "source": [
    "import numpy as np\n",
    "import matplotlib.pyplot as plt\n",
    "\n",
    "def entries_histogram(turnstile_weather):\n",
    "    \n",
    "    plt.figure(figsize=(12,6))\n",
    "    turnstile_weather[turnstile_weather['rain'] == 0]['ENTRIESn_hourly'].hist(color='Red',bins = 20, range=(1000, 9000)) # your code here to plot a historgram for hourly entries when it is raining\n",
    "    turnstile_weather[turnstile_weather['rain'] == 1]['ENTRIESn_hourly'].hist(color='green',bins = 20, range=(1000, 9000)) # your code here to plot a histogram for hourly entries when it is not raining\n",
    "    plt.legend((\"No Rain\",\"Rain\"))\n",
    "    plt.xlabel(\"Entries hours\")\n",
    "    plt.ylabel(\"Frequency\")\n",
    "    plt.title(\"Histograma de entradas por linha no Metrô de New York\")\n",
    "    return plt\n",
    "\n",
    "\n",
    "entries_histogram(data_weather)"
   ]
  },
  {
   "cell_type": "markdown",
   "metadata": {},
   "source": [
    "### *Exercicio 2.7\n",
    "\n",
    "Os dados que acabou de plotar que tipo de ditribuição? Existe diferença na distribuição entre dias chuvosos e não chuvosos?"
   ]
  },
  {
   "cell_type": "markdown",
   "metadata": {},
   "source": [
    "** Resposta **: \n",
    "\n",
    "Conforme observado esta é uma distribuição assimetrica positiva, devido a sua \"cauda\" mais longa à direita da ordenada segundo o blog. https://www.ensinoeinformacao.com/estatist-prob-curso-assimetria\n",
    "\n",
    "Existe uma grande diferença de entradas entre dias chuvosos e não chuvosos, sendo que nos dias que não houve chuva teve quase o dobro de entradas no metrô do que nos dias que choveu."
   ]
  },
  {
   "cell_type": "markdown",
   "metadata": {},
   "source": [
    "### *Exercicio 2.8\n",
    "\n",
    "Construa uma função que que retorne:\n",
    "\n",
    "1. A média das entradas com chuva\n",
    "2. A média das entradas sem chuva\n",
    "\n",
    "\n"
   ]
  },
  {
   "cell_type": "code",
   "execution_count": null,
   "metadata": {
    "collapsed": true
   },
   "outputs": [],
   "source": [
    "import numpy as np\n",
    "\n",
    "import pandas\n",
    "\n",
    "def means(turnstile_weather):\n",
    "    noRain = turnstile_weather[turnstile_weather['rain'] == 0]['ENTRIESn_hourly']\n",
    "    without_rain_mean = noRain.mean()\n",
    "    \n",
    "    Rain = turnstile_weather[turnstile_weather['rain'] == 1]['ENTRIESn_hourly']\n",
    "    with_rain_mean = Rain.mean()\n",
    "    \n",
    "    return with_rain_mean, without_rain_mean # leave this line for the grader\n",
    "\n",
    "means(data_weather)"
   ]
  },
  {
   "cell_type": "markdown",
   "metadata": {},
   "source": [
    "Responda as perguntas abaixo de acordo com a saida das suas funções:\n",
    "\n",
    "1. Qual a média das entradas com chuva?\n",
    "2. Qual a média das entradas sem chuva?\n"
   ]
  },
  {
   "cell_type": "markdown",
   "metadata": {},
   "source": [
    "** Resposta **:\n",
    " \n",
    "Para dias chuvosos a média de entradas é 1105, já para dias que não choveu a média 1090."
   ]
  },
  {
   "cell_type": "markdown",
   "metadata": {},
   "source": [
    "## Exercicio 3 - Map Reduce\n",
    "\n",
    "### *Exercicio 3.1*\n",
    "\n",
    "A entrada para esse exercício e o mesmo arquivo da seção anterior (Exercicio 2). Você pode baixar o arquivo neste link:\n",
    "\n",
    " https://s3.amazonaws.com/content.udacity-data.com/courses/ud359/turnstile_data_master_with_weather.csv\n",
    "\n",
    "Varmos criar um mapeador agora. Para cada linha de entrada, a saída do mapeador deve IMPRIMIR (não retornar) a UNIT como uma chave e o número de ENTRIESn_hourly como o valor. Separe a chave e o valor por uma guia. Por exemplo: 'R002 \\ t105105.0'\n",
    "\n",
    "Exporte seu mapeador em um arquivo chamado mapper_result.txt e envie esse arquivo juntamente com a sua submissão. O código para exportar seu mapeador já está escrito no código abaixo.\n",
    "\n",
    "\n"
   ]
  },
  {
   "cell_type": "code",
   "execution_count": null,
   "metadata": {
    "collapsed": true
   },
   "outputs": [],
   "source": [
    "import sys\n",
    "\n",
    "def mapper():\n",
    "    \n",
    "    for line in sys.stdin:\n",
    "        data = line.strip().split(\",\")\n",
    "\n",
    "        if len(data) >= 7:\n",
    "            print(data[1]+\"\\t\"+data[6])\n",
    "\n",
    "sys.stdin = open('turnstile_data_master_with_weather.csv')\n",
    "sys.stdout = open('mapper_result.txt', 'w')"
   ]
  },
  {
   "cell_type": "code",
   "execution_count": null,
   "metadata": {},
   "outputs": [],
   "source": [
    "mapper()"
   ]
  },
  {
   "cell_type": "markdown",
   "metadata": {},
   "source": [
    "### *Exercicio 3.2*\n",
    "\n",
    "Agora crie o redutor. Dado o resultado do mapeador do exercicio anterior, o redutor deve imprimir(Não retornar) uma linha por UNIT, juntamente com o número total de ENTRIESn_hourly.Ao longo de maio (que é a duração dos nossos dados), separados por uma guia. Um exemplo de linha de saída do redutor pode ser assim: 'R001 \\ t500625.0'\n",
    "\n",
    "Você pode assumir que a entrada para o redutor está ordenada de tal forma que todas as linhas correspondentes a uma unidade particular são agrupados. No entanto a saida do redutor terá repetição pois existem lojas que aparecem em locais diferentes dos arquivos.\n",
    "\n",
    "Exporte seu redutor em um arquivo chamado reducer_result.txt e envie esse arquivo juntamente com a sua submissão."
   ]
  },
  {
   "cell_type": "code",
   "execution_count": null,
   "metadata": {
    "collapsed": true
   },
   "outputs": [],
   "source": [
    "def reducer():\n",
    "    total_Entries = 0\n",
    "    oldKey = None\n",
    "\n",
    "    for line in sys.stdin:\n",
    "        mapped = line.strip().split(\"\\t\")\n",
    "        if len(mapped) != 2:\n",
    "            continue\n",
    "        \n",
    "        thisKey, thisEntries = mapped\n",
    "        \n",
    "        try:\n",
    "            thisEntryFloat = float(thisEntries)\n",
    "            if oldKey and oldKey != thisKey:\n",
    "                print(f\"{oldKey}\\t{total_Entries}\")\n",
    "                oldKey = thisKey\n",
    "                total_Entries = 0\n",
    "            \n",
    "            oldKey = thisKey\n",
    "            total_Entries += thisEntryFloat\n",
    "        except ValueError:\n",
    "            pass\n",
    "            \n",
    "sys.stdin = open('mapper_result.txt')\n",
    "sys.stdout = open('reducer_result.txt', 'w')"
   ]
  },
  {
   "cell_type": "code",
   "execution_count": null,
   "metadata": {},
   "outputs": [],
   "source": [
    "reducer()"
   ]
  }
 ],
 "metadata": {
  "celltoolbar": "Edit Metadata",
  "kernelspec": {
   "display_name": "Python 3",
   "language": "python",
   "name": "python3"
  },
  "language_info": {
   "codemirror_mode": {
    "name": "ipython",
    "version": 3
   },
   "file_extension": ".py",
   "mimetype": "text/x-python",
   "name": "python",
   "nbconvert_exporter": "python",
   "pygments_lexer": "ipython3",
   "version": "3.7.3"
  }
 },
 "nbformat": 4,
 "nbformat_minor": 2
}
